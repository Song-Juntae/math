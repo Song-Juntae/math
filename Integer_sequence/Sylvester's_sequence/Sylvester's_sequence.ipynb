{
 "cells": [
  {
   "cell_type": "code",
   "execution_count": 1,
   "metadata": {},
   "outputs": [
    {
     "name": "stdout",
     "output_type": "stream",
     "text": [
      "First 10 terms of OEIS A000058:\n",
      "2\n",
      "3\n",
      "7\n",
      "43\n",
      "1807\n",
      "3263443\n",
      "10650056950807\n",
      "113423713055421844361000443\n",
      "12864938683278671740537145998360961546653259485195807\n",
      "165506647324519964198468195444439180017513152706377497841851388766535868639572406808911988131737645185443\n",
      "\n",
      "Sum of the reciprocals of the first 10 terms:\n",
      "0.9999999999999999\n"
     ]
    }
   ],
   "source": [
    "# https://www.rosettacode.org/wiki/Sylvester%27s_sequence\n",
    "\n",
    "'''Sylvester's sequence'''\n",
    "\n",
    "from functools import reduce\n",
    "from itertools import count, islice\n",
    "\n",
    "\n",
    "# sylvester :: [Int]\n",
    "def sylvester():\n",
    "    '''Non-finite stream of the terms\n",
    "       of Sylvester's sequence.\n",
    "       (OEIS A000058)\n",
    "    '''\n",
    "    def go(n):\n",
    "        return 1 + reduce(\n",
    "            lambda a, x: a * go(x),\n",
    "            range(0, n),\n",
    "            1\n",
    "        ) if 0 != n else 2\n",
    "\n",
    "    return map(go, count(0))\n",
    "\n",
    "\n",
    "# ------------------------- TEST -------------------------\n",
    "# main :: IO ()\n",
    "def main():\n",
    "    '''First terms, and sum of reciprocals.'''\n",
    "\n",
    "    print(\"First 10 terms of OEIS A000058:\")\n",
    "    xs = list(islice(sylvester(), 10))\n",
    "    print('\\n'.join([\n",
    "        str(x) for x in xs\n",
    "    ]))\n",
    "\n",
    "    print(\"\\nSum of the reciprocals of the first 10 terms:\")\n",
    "    print(\n",
    "        reduce(lambda a, x: a + 1 / x, xs, 0)\n",
    "    )\n",
    "\n",
    "\n",
    "# MAIN ---\n",
    "if __name__ == '__main__':\n",
    "    main()"
   ]
  },
  {
   "cell_type": "code",
   "execution_count": null,
   "metadata": {},
   "outputs": [],
   "source": []
  }
 ],
 "metadata": {
  "kernelspec": {
   "display_name": "ml",
   "language": "python",
   "name": "python3"
  },
  "language_info": {
   "codemirror_mode": {
    "name": "ipython",
    "version": 3
   },
   "file_extension": ".py",
   "mimetype": "text/x-python",
   "name": "python",
   "nbconvert_exporter": "python",
   "pygments_lexer": "ipython3",
   "version": "3.11.4"
  },
  "orig_nbformat": 4
 },
 "nbformat": 4,
 "nbformat_minor": 2
}
