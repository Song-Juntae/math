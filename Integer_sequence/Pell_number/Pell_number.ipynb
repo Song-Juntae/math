{
 "cells": [
  {
   "cell_type": "code",
   "execution_count": 1,
   "metadata": {},
   "outputs": [
    {
     "name": "stdout",
     "output_type": "stream",
     "text": [
      "12\n"
     ]
    }
   ],
   "source": [
    "# https://www.geeksforgeeks.org/pell-number/\n",
    "\n",
    "# Iterative Pell Number \n",
    "# Series in Python 3\n",
    " \n",
    "# calculate nth pell number\n",
    "def pell(n) :\n",
    "    if (n <= 2) :\n",
    "        return n\n",
    "  \n",
    "    a = 1\n",
    "    b = 2\n",
    "    for i in range(3, n+1) :\n",
    "        c = 2 * b + a\n",
    "        a = b\n",
    "        b = c\n",
    "     \n",
    "    return b\n",
    "     \n",
    "# driver function\n",
    "n = 4\n",
    "print(pell(n))\n",
    " \n",
    "# This code is contributed by Nikita Tiwari."
   ]
  },
  {
   "cell_type": "code",
   "execution_count": null,
   "metadata": {},
   "outputs": [],
   "source": []
  }
 ],
 "metadata": {
  "kernelspec": {
   "display_name": "ml",
   "language": "python",
   "name": "python3"
  },
  "language_info": {
   "codemirror_mode": {
    "name": "ipython",
    "version": 3
   },
   "file_extension": ".py",
   "mimetype": "text/x-python",
   "name": "python",
   "nbconvert_exporter": "python",
   "pygments_lexer": "ipython3",
   "version": "3.11.4"
  },
  "orig_nbformat": 4
 },
 "nbformat": 4,
 "nbformat_minor": 2
}
