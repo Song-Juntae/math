{
 "cells": [
  {
   "cell_type": "code",
   "execution_count": 1,
   "metadata": {},
   "outputs": [
    {
     "name": "stdout",
     "output_type": "stream",
     "text": [
      "Count of Derangements is  9\n"
     ]
    }
   ],
   "source": [
    "# https://www.geeksforgeeks.org/count-derangements-permutation-such-that-no-element-appears-in-its-original-position/\n",
    "\n",
    "# Python program to count derangements \n",
    "   \n",
    "def countDer(n):\n",
    "       \n",
    "    # Base Case\n",
    "    if n == 1 or n == 2:\n",
    "      return n-1;\n",
    "         \n",
    "    # Variables for storing previous values\n",
    "    a = 0\n",
    "    b = 1\n",
    "     \n",
    "    # using above recursive formula \n",
    "    for i in range(3, n + 1): \n",
    "        cur = (i-1)*(a+b)\n",
    "        a = b\n",
    "        b = cur\n",
    "         \n",
    "    # Return result for n \n",
    "    return b \n",
    "   \n",
    "# Driver Code \n",
    "n = 4\n",
    "print(\"Count of Derangements is \", countDer(n)) \n",
    "# Code contributed by skagnihotri"
   ]
  },
  {
   "cell_type": "code",
   "execution_count": 2,
   "metadata": {},
   "outputs": [
    {
     "name": "stdout",
     "output_type": "stream",
     "text": [
      "Derangements of (0, 1, 2, 3)\n",
      "  (1, 0, 3, 2)\n",
      "  (1, 2, 3, 0)\n",
      "  (1, 3, 0, 2)\n",
      "  (2, 0, 3, 1)\n",
      "  (2, 3, 0, 1)\n",
      "  (2, 3, 1, 0)\n",
      "  (3, 0, 1, 2)\n",
      "  (3, 2, 0, 1)\n",
      "  (3, 2, 1, 0)\n",
      "\n",
      "Table of n vs counted vs calculated derangements\n",
      " 0 1     1    \n",
      " 1 0     0    \n",
      " 2 1     1    \n",
      " 3 2     2    \n",
      " 4 9     9    \n",
      " 5 44    44   \n",
      " 6 265   265  \n",
      " 7 1854  1854 \n",
      " 8 14833 14833\n",
      " 9 133496 133496\n",
      "\n",
      "!20 = 895014631192902121\n"
     ]
    }
   ],
   "source": [
    "# https://www.rosettacode.org/wiki/Permutations/Derangements\n",
    "\n",
    "from itertools import permutations\n",
    "import math\n",
    "\n",
    "\n",
    "def derangements(n):\n",
    "    'All deranged permutations of the integers 0..n-1 inclusive'\n",
    "    return ( perm for perm in permutations(range(n))\n",
    "             if all(indx != p for indx, p in enumerate(perm)) )\n",
    "\n",
    "def subfact(n):\n",
    "    if n == 2 or n == 0:\n",
    "        return 1\n",
    "    elif n == 1:\n",
    "        return 0\n",
    "    elif  1 <= n <=18:\n",
    "        return round(math.factorial(n) / math.e)\n",
    "    elif n.imag == 0 and n.real == int(n.real) and n > 0:\n",
    "        return (n-1) * ( subfact(n - 1) + subfact(n - 2) )\n",
    "    else:\n",
    "        raise ValueError()\n",
    "\n",
    "def _iterlen(iter):\n",
    "    'length of an iterator without taking much memory'\n",
    "    l = 0\n",
    "    for x in iter:\n",
    "        l += 1\n",
    "    return l\n",
    "\n",
    "if __name__ == '__main__':\n",
    "    n = 4\n",
    "    print(\"Derangements of %s\" % (tuple(range(n)),))\n",
    "    for d in derangements(n):\n",
    "        print(\"  %s\" % (d,))\n",
    "\n",
    "    print(\"\\nTable of n vs counted vs calculated derangements\")\n",
    "    for n in range(10):\n",
    "        print(\"%2i %-5i %-5i\" %\n",
    "              (n, _iterlen(derangements(n)), subfact(n)))\n",
    "\n",
    "    n = 20\n",
    "    print(\"\\n!%i = %i\" % (n, subfact(n)))"
   ]
  },
  {
   "cell_type": "code",
   "execution_count": null,
   "metadata": {},
   "outputs": [],
   "source": []
  }
 ],
 "metadata": {
  "kernelspec": {
   "display_name": "ml",
   "language": "python",
   "name": "python3"
  },
  "language_info": {
   "codemirror_mode": {
    "name": "ipython",
    "version": 3
   },
   "file_extension": ".py",
   "mimetype": "text/x-python",
   "name": "python",
   "nbconvert_exporter": "python",
   "pygments_lexer": "ipython3",
   "version": "3.11.4"
  },
  "orig_nbformat": 4
 },
 "nbformat": 4,
 "nbformat_minor": 2
}
