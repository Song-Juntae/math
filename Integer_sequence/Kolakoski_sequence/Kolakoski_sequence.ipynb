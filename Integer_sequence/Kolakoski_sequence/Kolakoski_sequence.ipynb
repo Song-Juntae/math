{
 "cells": [
  {
   "cell_type": "code",
   "execution_count": 2,
   "metadata": {},
   "outputs": [
    {
     "name": "stdout",
     "output_type": "stream",
     "text": [
      "\n",
      "## 20 members of the series generated from (1, 2) is:\n",
      "  [1, 2, 2, 1, 1, 2, 1, 2, 2, 1, 2, 2, 1, 1, 2, 1, 1, 2, 2, 1]\n",
      "  Does it look like a Kolakoski sequence: YES\n",
      "\n",
      "## 20 members of the series generated from (2, 1) is:\n",
      "  [2, 2, 1, 1, 2, 1, 2, 2, 1, 2, 2, 1, 1, 2, 1, 1, 2, 2, 1, 2]\n",
      "  Does it look like a Kolakoski sequence: YES\n",
      "\n",
      "## 30 members of the series generated from (1, 3, 1, 2) is:\n",
      "  [1, 3, 3, 3, 1, 1, 1, 2, 2, 2, 1, 3, 1, 2, 2, 1, 1, 3, 3, 1, 2, 2, 2, 1, 3, 3, 1, 1, 2, 1]\n",
      "  Does it look like a Kolakoski sequence: YES\n",
      "\n",
      "## 30 members of the series generated from (1, 3, 2, 1) is:\n",
      "  [1, 3, 3, 3, 2, 2, 2, 1, 1, 1, 1, 1, 3, 3, 2, 2, 1, 1, 3, 2, 1, 1, 1, 1, 3, 3, 3, 2, 2, 1]\n",
      "  Does it look like a Kolakoski sequence: NO\n"
     ]
    }
   ],
   "source": [
    "# https://www.rosettacode.org/wiki/Kolakoski_sequence\n",
    "\n",
    "import itertools\n",
    "\n",
    "def cycler(start_items):\n",
    "\treturn itertools.cycle(start_items).__next__\n",
    "\n",
    "def _kolakoski_gen(start_items):\n",
    "    s, k = [], 0\n",
    "    c = cycler(start_items)\n",
    "    while True:\n",
    "        c_next = c()\n",
    "        s.append(c_next)\n",
    "        sk = s[k]\n",
    "        yield sk\n",
    "        if sk > 1:\n",
    "            s += [c_next] * (sk - 1)\n",
    "        k += 1\n",
    "\n",
    "def kolakoski(start_items=(1, 2), length=20):\n",
    "    return list(itertools.islice(_kolakoski_gen(start_items), length))\n",
    "\n",
    "def _run_len_encoding(truncated_series):\n",
    "    return [len(list(group)) for grouper, group in itertools.groupby(truncated_series)][:-1]\n",
    "\n",
    "def is_series_eq_its_rle(series):\n",
    "    rle = _run_len_encoding(series)\n",
    "    return (series[:len(rle)] == rle) if rle else not series\n",
    "\n",
    "if __name__ == '__main__':\n",
    "    for start_items, length in [((1, 2), 20), ((2, 1), 20), \n",
    "                                ((1, 3, 1, 2), 30), ((1, 3, 2, 1), 30)]:\n",
    "        print(f'\\n## {length} members of the series generated from {start_items} is:')\n",
    "        s = kolakoski(start_items, length)\n",
    "        print(f'  {s}')\n",
    "        ans = 'YES' if is_series_eq_its_rle(s) else 'NO'\n",
    "        print(f'  Does it look like a Kolakoski sequence: {ans}')"
   ]
  },
  {
   "cell_type": "code",
   "execution_count": null,
   "metadata": {},
   "outputs": [],
   "source": []
  }
 ],
 "metadata": {
  "kernelspec": {
   "display_name": "ml",
   "language": "python",
   "name": "python3"
  },
  "language_info": {
   "codemirror_mode": {
    "name": "ipython",
    "version": 3
   },
   "file_extension": ".py",
   "mimetype": "text/x-python",
   "name": "python",
   "nbconvert_exporter": "python",
   "pygments_lexer": "ipython3",
   "version": "3.11.4"
  },
  "orig_nbformat": 4
 },
 "nbformat": 4,
 "nbformat_minor": 2
}
