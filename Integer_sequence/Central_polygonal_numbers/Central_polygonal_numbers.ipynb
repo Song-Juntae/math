{
 "cells": [
  {
   "cell_type": "code",
   "execution_count": 1,
   "metadata": {},
   "outputs": [
    {
     "name": "stdout",
     "output_type": "stream",
     "text": [
      "2\n",
      "4\n",
      "7\n",
      "1276\n"
     ]
    }
   ],
   "source": [
    "# https://www.geeksforgeeks.org/the-lazy-caterers-problem/\n",
    "\n",
    "# A Python 3 program to \n",
    "# find the solution to\n",
    "# The Lazy Caterer's Problem\n",
    " \n",
    "# This function receives an \n",
    "# integer n and returns the \n",
    "# maximum number of pieces \n",
    "# that can be made form \n",
    "# pancake using n cuts\n",
    "def findPieces( n ):\n",
    " \n",
    "    # Use the formula\n",
    "    return (n * ( n + 1)) // 2 + 1\n",
    " \n",
    "# Driver Code\n",
    "print(findPieces(1))\n",
    "print(findPieces(2))\n",
    "print(findPieces(3))\n",
    "print(findPieces(50))\n",
    " \n",
    "# This code is contributed\n",
    "# by ihritik"
   ]
  },
  {
   "cell_type": "code",
   "execution_count": null,
   "metadata": {},
   "outputs": [],
   "source": []
  }
 ],
 "metadata": {
  "kernelspec": {
   "display_name": "ml",
   "language": "python",
   "name": "python3"
  },
  "language_info": {
   "codemirror_mode": {
    "name": "ipython",
    "version": 3
   },
   "file_extension": ".py",
   "mimetype": "text/x-python",
   "name": "python",
   "nbconvert_exporter": "python",
   "pygments_lexer": "ipython3",
   "version": "3.11.4"
  },
  "orig_nbformat": 4
 },
 "nbformat": 4,
 "nbformat_minor": 2
}
