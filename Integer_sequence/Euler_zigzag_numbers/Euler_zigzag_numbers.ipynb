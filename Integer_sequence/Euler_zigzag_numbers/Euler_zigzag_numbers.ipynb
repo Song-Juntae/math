{
 "cells": [
  {
   "cell_type": "code",
   "execution_count": 1,
   "metadata": {},
   "outputs": [
    {
     "name": "stdout",
     "output_type": "stream",
     "text": [
      "zig zag numbers:  1 1 1 2 5 16 61 272 1385 7936 "
     ]
    }
   ],
   "source": [
    "# https://www.geeksforgeeks.org/euler-zigzag-numbers-alternating-permutation/\n",
    "\n",
    "# Python3 program to find zigzag sequence\n",
    " \n",
    "# Function to print first n zigzag numbers\n",
    "def ZigZag(n):\n",
    " \n",
    "    # To store factorial and \n",
    "    # n'th zig zag number\n",
    "    fact = [0 for i in range(n + 1)]\n",
    "    zig = [0 for i in range(n + 1)]\n",
    "  \n",
    "    # Initialize factorial upto n\n",
    "    fact[0] = 1\n",
    "    for i in range(1, n + 1):\n",
    "        fact[i] = fact[i - 1] * i\n",
    " \n",
    "    # Set first two zig zag numbers\n",
    "    zig[0] = 1\n",
    "    zig[1] = 1\n",
    " \n",
    "    print(\"zig zag numbers: \", end = \" \")\n",
    " \n",
    "    # Print first two zig zag number\n",
    "    print(zig[0], zig[1], end = \" \")\n",
    " \n",
    "    # Print the rest zig zag numbers\n",
    "    for i in range(2, n):\n",
    "        sum = 0\n",
    " \n",
    "        for k in range(0, i):\n",
    "             \n",
    "            # Binomial(n, k)*a(k)*a(n-k)\n",
    "            sum += ((fact[i - 1] //\n",
    "                    (fact[i - 1 - k] * fact[k])) *\n",
    "                     zig[k] * zig[i - 1 - k])\n",
    " \n",
    "        # Store the value\n",
    "        zig[i] = sum // 2\n",
    " \n",
    "        # Print the number\n",
    "        print(sum // 2, end = \" \")\n",
    " \n",
    "# Driver code\n",
    "n = 10\n",
    " \n",
    "# Function call\n",
    "ZigZag(n)\n",
    " \n",
    "# This code is contributed by Mohit Kumar"
   ]
  },
  {
   "cell_type": "code",
   "execution_count": null,
   "metadata": {},
   "outputs": [],
   "source": []
  }
 ],
 "metadata": {
  "kernelspec": {
   "display_name": "ml",
   "language": "python",
   "name": "python3"
  },
  "language_info": {
   "codemirror_mode": {
    "name": "ipython",
    "version": 3
   },
   "file_extension": ".py",
   "mimetype": "text/x-python",
   "name": "python",
   "nbconvert_exporter": "python",
   "pygments_lexer": "ipython3",
   "version": "3.11.4"
  },
  "orig_nbformat": 4
 },
 "nbformat": 4,
 "nbformat_minor": 2
}
