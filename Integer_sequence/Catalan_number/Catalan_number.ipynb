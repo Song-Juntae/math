{
 "cells": [
  {
   "cell_type": "code",
   "execution_count": 1,
   "metadata": {},
   "outputs": [
    {
     "name": "stdout",
     "output_type": "stream",
     "text": [
      "CAT_DIRECT CATR1      CATR2     \n",
      "========== ========== ==========\n",
      "1          1          1         \n",
      "1          1          1         \n",
      "2          2          2         \n",
      "5          5          5         \n",
      "14         14         14        \n",
      "42         42         42        \n",
      "132        132        132       \n",
      "429        429        429       \n",
      "1430       1430       1430      \n",
      "4862       4862       4862      \n",
      "16796      16796      16796     \n",
      "58786      58786      58786     \n",
      "208012     208012     208012    \n",
      "742900     742900     742900    \n",
      "2674440    2674440    2674440   \n"
     ]
    }
   ],
   "source": [
    "# https://www.rosettacode.org/wiki/Catalan_numbers\n",
    "\n",
    "from math import factorial\n",
    "import functools\n",
    "\n",
    "\n",
    "def memoize(func):\n",
    "    cache = {}\n",
    "\n",
    "    def memoized(key):\n",
    "        # Returned, new, memoized version of decorated function\n",
    "        if key not in cache:\n",
    "            cache[key] = func(key)\n",
    "        return cache[key]\n",
    "    return functools.update_wrapper(memoized, func)\n",
    "\n",
    "\n",
    "@memoize\n",
    "def fact(n):\n",
    "    return factorial(n)\n",
    "\n",
    "\n",
    "def cat_direct(n):\n",
    "    return fact(2 * n) // fact(n + 1) // fact(n)\n",
    "\n",
    "\n",
    "@memoize\n",
    "def catR1(n):\n",
    "    return 1 if n == 0 else (\n",
    "        sum(catR1(i) * catR1(n - 1 - i) for i in range(n))\n",
    "    )\n",
    "\n",
    "\n",
    "@memoize\n",
    "def catR2(n):\n",
    "    return 1 if n == 0 else (\n",
    "        ((4 * n - 2) * catR2(n - 1)) // (n + 1)\n",
    "    )\n",
    "\n",
    "\n",
    "if __name__ == '__main__':\n",
    "    def pr(results):\n",
    "        fmt = '%-10s %-10s %-10s'\n",
    "        print((fmt % tuple(c.__name__ for c in defs)).upper())\n",
    "        print(fmt % (('=' * 10,) * 3))\n",
    "        for r in zip(*results):\n",
    "            print(fmt % r)\n",
    "\n",
    "    defs = (cat_direct, catR1, catR2)\n",
    "    results = [tuple(c(i) for i in range(15)) for c in defs]\n",
    "    pr(results)"
   ]
  },
  {
   "cell_type": "code",
   "execution_count": 2,
   "metadata": {},
   "outputs": [
    {
     "name": "stdout",
     "output_type": "stream",
     "text": [
      "1\n",
      "1\n",
      "2\n",
      "5\n",
      "14\n",
      "42\n",
      "132\n",
      "429\n",
      "1430\n",
      "4862\n"
     ]
    }
   ],
   "source": [
    "# https://www.geeksforgeeks.org/python-program-for-program-for-nth-catalan-number/\n",
    "# A dynamic programming based function to find nth\n",
    "# Catalan number\n",
    " \n",
    "def catalan(n):\n",
    "    if (n == 0 or n == 1):\n",
    "        return 1\n",
    " \n",
    "    # Table to store results of subproblems\n",
    "    catalan = [0 for i in range(n + 1)]\n",
    " \n",
    "    # Initialize first two values in table\n",
    "    catalan[0] = 1\n",
    "    catalan[1] = 1\n",
    " \n",
    "    # Fill entries in catalan[] using recursive formula\n",
    "    for i in range(2, n + 1):\n",
    "        catalan[i] = 0\n",
    "        for j in range(i):\n",
    "            catalan[i] += catalan[j] * catalan[i-j-1]\n",
    " \n",
    "    # Return last entry\n",
    "    return catalan[n]\n",
    " \n",
    " \n",
    "# Driver code\n",
    "for i in range(10):\n",
    "    print(catalan(i))"
   ]
  },
  {
   "cell_type": "code",
   "execution_count": null,
   "metadata": {},
   "outputs": [],
   "source": []
  }
 ],
 "metadata": {
  "kernelspec": {
   "display_name": "ml",
   "language": "python",
   "name": "python3"
  },
  "language_info": {
   "codemirror_mode": {
    "name": "ipython",
    "version": 3
   },
   "file_extension": ".py",
   "mimetype": "text/x-python",
   "name": "python",
   "nbconvert_exporter": "python",
   "pygments_lexer": "ipython3",
   "version": "3.11.4"
  },
  "orig_nbformat": 4
 },
 "nbformat": 4,
 "nbformat_minor": 2
}
