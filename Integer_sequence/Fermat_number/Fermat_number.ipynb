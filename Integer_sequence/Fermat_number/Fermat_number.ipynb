{
 "cells": [
  {
   "cell_type": "code",
   "execution_count": 1,
   "metadata": {},
   "outputs": [
    {
     "name": "stdout",
     "output_type": "stream",
     "text": [
      "3, 5, 17, 257, 65537, 4294967297, 18446744073709551617"
     ]
    }
   ],
   "source": [
    "#   https://www.geeksforgeeks.org/program-to-find-first-n-fermat-numbers/\n",
    "\n",
    "# Python3 program to print fermat numbers\n",
    " \n",
    "# Iterative Function to calculate (x^y) in O(log y) \n",
    "def power(x, y):\n",
    " \n",
    "    res = 1 # Initialize result\n",
    " \n",
    "    while (y > 0):\n",
    "         \n",
    "        # If y is odd, \n",
    "        # multiply x with the result\n",
    "        if (y & 1):\n",
    "            res = res * x\n",
    " \n",
    "        # n must be even now\n",
    "        y = y >> 1 # y = y/2\n",
    "        x = x * x # Change x to x^2\n",
    "    return res\n",
    " \n",
    "# Function to find nth fermat number\n",
    "def Fermat(i):\n",
    "     \n",
    "    # 2 to the power i\n",
    "    power2_i = power(2, i)\n",
    " \n",
    "    # 2 to the power 2^i\n",
    "    power2_2_i = power(2, power2_i)\n",
    " \n",
    "    return power2_2_i + 1\n",
    " \n",
    "# Function to find first n Fermat numbers\n",
    "def Fermat_Number(n):\n",
    " \n",
    "    for i in range(n):\n",
    " \n",
    "        # Calculate 2^2^i\n",
    "        print(Fermat(i), end = \"\")\n",
    " \n",
    "        if(i != n - 1):\n",
    "            print(end = \", \")\n",
    " \n",
    "# Driver code\n",
    "n = 7\n",
    " \n",
    "# Function call\n",
    "Fermat_Number(n)\n",
    " \n",
    "# This code is contributed by Mohit Kumar"
   ]
  },
  {
   "cell_type": "code",
   "execution_count": null,
   "metadata": {},
   "outputs": [],
   "source": []
  }
 ],
 "metadata": {
  "kernelspec": {
   "display_name": "ml",
   "language": "python",
   "name": "python3"
  },
  "language_info": {
   "codemirror_mode": {
    "name": "ipython",
    "version": 3
   },
   "file_extension": ".py",
   "mimetype": "text/x-python",
   "name": "python",
   "nbconvert_exporter": "python",
   "pygments_lexer": "ipython3",
   "version": "3.11.4"
  },
  "orig_nbformat": 4
 },
 "nbformat": 4,
 "nbformat_minor": 2
}
