{
 "cells": [
  {
   "cell_type": "code",
   "execution_count": null,
   "metadata": {},
   "outputs": [],
   "source": [
    "#https://www.geeksforgeeks.org/eulers-totient-function/\n",
    "\n",
    "# A simple Python3 program\n",
    "# to calculate Euler's\n",
    "# Totient Function\n",
    " \n",
    "# Function to return\n",
    "# gcd of a and b\n",
    "def gcd(a, b):\n",
    " \n",
    "    if (a == 0):\n",
    "        return b\n",
    "    return gcd(b % a, a)\n",
    " \n",
    "# A simple method to evaluate\n",
    "# Euler Totient Function\n",
    "def phi(n):\n",
    " \n",
    "    result = 1\n",
    "    for i in range(2, n):\n",
    "        if (gcd(i, n) == 1):\n",
    "            result+=1\n",
    "    return result\n",
    " \n",
    "# Driver Code\n",
    "for n in range(1, 11):\n",
    "    print(\"phi(\",n,\") = \",\n",
    "           phi(n), sep = \"\")\n",
    "            \n",
    "# This code is contributed\n",
    "# by Smitha"
   ]
  }
 ],
 "metadata": {
  "language_info": {
   "name": "python"
  },
  "orig_nbformat": 4
 },
 "nbformat": 4,
 "nbformat_minor": 2
}
