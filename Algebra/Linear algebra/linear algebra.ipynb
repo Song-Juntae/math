{
 "cells": [
  {
   "cell_type": "code",
   "execution_count": 47,
   "metadata": {},
   "outputs": [],
   "source": [
    "import numpy as np"
   ]
  },
  {
   "cell_type": "code",
   "execution_count": 48,
   "metadata": {},
   "outputs": [
    {
     "data": {
      "text/plain": [
       "(array([[5],\n",
       "        [0]]),\n",
       " array([[5],\n",
       "        [0]]),\n",
       " array([[5],\n",
       "        [0]]),\n",
       " array([[5],\n",
       "        [0]]),\n",
       " True)"
      ]
     },
     "execution_count": 48,
     "metadata": {},
     "output_type": "execute_result"
    }
   ],
   "source": [
    "horizontal_vector = np.array([5,0])\n",
    "vertical_vector = np.array([[5],[0]])\n",
    "\n",
    "# horizontal_vector to vertical_vector\n",
    "\n",
    "# horizontal_vector.shape = (2,1)\n",
    "# horizontal_vector\n",
    "\n",
    "new_vertical_vector1 = horizontal_vector.reshape(2,1)\n",
    "\n",
    "new_vertical_vector2 = np.vstack(horizontal_vector)\n",
    "\n",
    "new_vertical_vector3 = horizontal_vector[:, None]\n",
    "\n",
    "new_vertical_vector4 = horizontal_vector[:, np.newaxis]\n",
    "\n",
    "new_vertical_vector1, new_vertical_vector2, new_vertical_vector3, new_vertical_vector4, np.newaxis==None"
   ]
  },
  {
   "cell_type": "code",
   "execution_count": null,
   "metadata": {},
   "outputs": [],
   "source": []
  }
 ],
 "metadata": {
  "kernelspec": {
   "display_name": "ml",
   "language": "python",
   "name": "python3"
  },
  "language_info": {
   "codemirror_mode": {
    "name": "ipython",
    "version": 3
   },
   "file_extension": ".py",
   "mimetype": "text/x-python",
   "name": "python",
   "nbconvert_exporter": "python",
   "pygments_lexer": "ipython3",
   "version": "3.11.4"
  }
 },
 "nbformat": 4,
 "nbformat_minor": 2
}
