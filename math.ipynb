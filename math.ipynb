{
 "cells": [
  {
   "cell_type": "code",
   "execution_count": 47,
   "metadata": {},
   "outputs": [
    {
     "name": "stdout",
     "output_type": "stream",
     "text": [
      "0.246\n",
      "0.249685\n",
      "\n",
      "결과로 평균이 약 25%가 나왔습니다.\n",
      "25%가 정답이라면, 위의 과정의 첫 번째 과정에서의 선택지가 3번, 25%가 정답인 선택지로 결정됩니다.\n",
      "결정된 이후 25%, 3번을 찍어서 맞출 확률은 20%가 되므로, 다시 위의 과정의 첫 번째 과정에서의 선택지가 4~5번, 20%가 정답인 선택지로 결정됩니다.\n",
      "다시 결정된 이후 문제를 찍어서 맞출 확률은 25%가 되므로 위의 과정이 반복됩니다.\n",
      "\n",
      "저는 첫 과정을 거치고 25%가 나왔을 때, 선택지에서 25%를 찍을 확률이 20%라서 이 문제는 모순이다. 생각했는데,\n",
      "아직 제가 위의 코드가 일반적으로 우리가 생각하는 이 문제를 잘 표현했는지 모르겠고, 결과를 어떻게 수학? 논리? 학문적으로 해석해야 하는지 모르겠네용\n",
      "\n"
     ]
    }
   ],
   "source": [
    "# 이 문제를 찍었을 때, 맞출 확률은?\n",
    "\n",
    "## 파이썬 코드\n",
    "\n",
    "### 필요한 라이브러리 호출\n",
    "import random\n",
    "import numpy as np\n",
    "\n",
    "### 문제\n",
    "### 1번이 정답일 경우, 2번이 정답일 경우, 3번이 정답일 경우, 4~5번이 정답일 경우\n",
    "Problem = [\n",
    "    {1:True, 2:False, 3:False, 4:False, 5:False},\n",
    "    {1:False, 2:True, 3:False, 4:False, 5:False},\n",
    "    {1:False, 2:False, 3:True, 4:False, 5:False},\n",
    "    {1:False, 2:False, 3:False, 4:True, 5:True}\n",
    "    ]\n",
    "\n",
    "### 결과들을 담을 리스트\n",
    "Results = []\n",
    "\n",
    "### 1000번 반복\n",
    "for i in range(1000):\n",
    "    ### 1번이 정답일 경우, 2번이 정답일 경우, 3번이 정답일 경우, 4~5번이 정답일 경우 중 하나를 선택\n",
    "    p = Problem[random.randrange(0,4)]\n",
    "    ### 고른 경우에서 찍기\n",
    "    r = p[random.randrange(1,6)]\n",
    "    ### 결과를 리스트에 저장\n",
    "    Results.append(r)\n",
    "\n",
    "### 1000번 찍었을 때, 결과의 평균\n",
    "print(np.mean(Results))\n",
    "\n",
    "### 위의 과정을 반복해서 1000개의 평균을 구해서 평균 구하기\n",
    "\n",
    "### 평균들을 담을 리스트\n",
    "means = []\n",
    "\n",
    "### 1000번 반복\n",
    "for i in range(1000):\n",
    "    ### 위와 같은 과정\n",
    "    Results = []\n",
    "    for j in range(1000):\n",
    "        p = Problem[random.randrange(0,4)]\n",
    "        r = p[random.randrange(1,6)]\n",
    "        Results.append(r)\n",
    "    ### 평균을 리스트에 저장\n",
    "    means.append(np.mean(Results))\n",
    "\n",
    "### 1000개의 평균의 평균\n",
    "print(np.mean(means))\n",
    "\n",
    "\n",
    "### 설명\n",
    "\n",
    "print('''\n",
    "결과로 평균이 약 25%가 나왔습니다.\n",
    "25%가 정답이라면, 위의 과정의 첫 번째 과정에서의 선택지가 3번, 25%가 정답인 선택지로 결정됩니다.\n",
    "결정된 이후 25%, 3번을 찍어서 맞출 확률은 20%가 되므로, 다시 위의 과정의 첫 번째 과정에서의 선택지가 4~5번, 20%가 정답인 선택지로 결정됩니다.\n",
    "다시 결정된 이후 문제를 찍어서 맞출 확률은 25%가 되므로 위의 과정이 반복됩니다.\n",
    "\n",
    "저는 첫 과정을 거치고 25%가 나왔을 때, 선택지에서 25%를 찍을 확률이 20%라서 이 문제는 모순이다. 생각했는데,\n",
    "아직 제가 위의 코드가 일반적으로 우리가 생각하는 이 문제를 잘 표현했는지 모르겠고, 결과를 어떻게 수학? 논리? 학문적으로 해석해야 하는지 모르겠네용\n",
    "''')\n"
   ]
  },
  {
   "cell_type": "code",
   "execution_count": null,
   "metadata": {},
   "outputs": [],
   "source": []
  }
 ],
 "metadata": {
  "kernelspec": {
   "display_name": "ml",
   "language": "python",
   "name": "python3"
  },
  "language_info": {
   "codemirror_mode": {
    "name": "ipython",
    "version": 3
   },
   "file_extension": ".py",
   "mimetype": "text/x-python",
   "name": "python",
   "nbconvert_exporter": "python",
   "pygments_lexer": "ipython3",
   "version": "3.11.4"
  }
 },
 "nbformat": 4,
 "nbformat_minor": 2
}
